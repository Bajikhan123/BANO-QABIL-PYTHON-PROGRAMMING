{
 "cells": [
  {
   "cell_type": "code",
   "execution_count": 2,
   "id": "1e023815-9ed7-4bfb-8910-a267635b6feb",
   "metadata": {},
   "outputs": [
    {
     "name": "stdin",
     "output_type": "stream",
     "text": [
      "enter the first number 5\n",
      "enter the second number 6\n"
     ]
    },
    {
     "name": "stdout",
     "output_type": "stream",
     "text": [
      "11\n"
     ]
    }
   ],
   "source": [
    "num1=input(\"enter the first number\")\n",
    "num2=input(\"enter the second number\")\n",
    "sum=int(num1)+int(num2)\n",
    "print(sum)\n"
   ]
  },
  {
   "cell_type": "code",
   "execution_count": 7,
   "id": "347bf560-9221-4208-9474-b47a96ac579f",
   "metadata": {},
   "outputs": [
    {
     "name": "stdin",
     "output_type": "stream",
     "text": [
      "enter the first  division: 25\n",
      "enter the second division: 5\n"
     ]
    },
    {
     "name": "stdout",
     "output_type": "stream",
     "text": [
      "5.0\n"
     ]
    }
   ],
   "source": [
    "dividen1=input(\"enter the first  division:\")\n",
    "dividen2=input(\"enter the second division:\")\n",
    "division=int(dividen1)/int(dividen2)\n",
    "print(division)"
   ]
  },
  {
   "cell_type": "markdown",
   "id": "805c0315-dc00-47ae-b35b-5ed5a54fc48f",
   "metadata": {},
   "source": [
    "\n",
    "base=input(\"enter the length of base of triangle:\")\n",
    "height=input(\"enter the height of triangle:\")\n",
    "a=1/2\n",
    "area=(a)*int(base)*int(height)\n",
    "print(area)"
   ]
  },
  {
   "cell_type": "code",
   "execution_count": 13,
   "id": "8f0273b5-6ef5-45e1-b4fd-09ca2ac5ccee",
   "metadata": {},
   "outputs": [
    {
     "name": "stdin",
     "output_type": "stream",
     "text": [
      "enter the temperature in celsius: 37\n"
     ]
    },
    {
     "name": "stdout",
     "output_type": "stream",
     "text": [
      "98.60000000000001\n"
     ]
    }
   ],
   "source": [
    "celsius=input(\"enter the temperature in celsius:\")\n",
    "a=1.8\n",
    "b=celsius\n",
    "c=32\n",
    "f=(a)*int(celsius)+(c)\n",
    "print(f)"
   ]
  },
  {
   "cell_type": "code",
   "execution_count": null,
   "id": "118df0e8-d665-4a1e-a288-a36350bfe95b",
   "metadata": {},
   "outputs": [],
   "source": []
  },
  {
   "cell_type": "code",
   "execution_count": 25,
   "id": "1ce361e4-5e6e-485b-9a06-7f60033a34dd",
   "metadata": {},
   "outputs": [
    {
     "name": "stdout",
     "output_type": "stream",
     "text": [
      "datatype; <class 'int'>\n",
      "datatype; <class 'float'>\n",
      "datatype; <class 'str'>\n"
     ]
    }
   ],
   "source": [
    "a=19\n",
    "b=16.5\n",
    "c=\"samra\"\n",
    "print(\"datatype;\",type(a))\n",
    "print(\"datatype;\",type(b))\n",
    "print(\"datatype;\",type(c))\n",
    "\n"
   ]
  },
  {
   "cell_type": "code",
   "execution_count": null,
   "id": "08804014-bcf4-44ed-b8c3-53e50c480fde",
   "metadata": {},
   "outputs": [],
   "source": []
  }
 ],
 "metadata": {
  "kernelspec": {
   "display_name": "Python 3 (ipykernel)",
   "language": "python",
   "name": "python3"
  },
  "language_info": {
   "codemirror_mode": {
    "name": "ipython",
    "version": 3
   },
   "file_extension": ".py",
   "mimetype": "text/x-python",
   "name": "python",
   "nbconvert_exporter": "python",
   "pygments_lexer": "ipython3",
   "version": "3.10.10"
  }
 },
 "nbformat": 4,
 "nbformat_minor": 5
}
